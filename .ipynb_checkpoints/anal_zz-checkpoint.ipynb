{
 "cells": [
  {
   "cell_type": "code",
   "execution_count": 1,
   "id": "f992e3de",
   "metadata": {
    "scrolled": false
   },
   "outputs": [],
   "source": [
    "import analyzer.zz_analyzer as z\n",
    "\n",
    "z.run(stage=\"plot\")"
   ]
  },
  {
   "cell_type": "code",
   "execution_count": null,
   "id": "1c75aed0",
   "metadata": {},
   "outputs": [],
   "source": []
  },
  {
   "cell_type": "code",
   "execution_count": null,
   "id": "00b62cb1",
   "metadata": {},
   "outputs": [],
   "source": []
  }
 ],
 "metadata": {
  "kernelspec": {
   "display_name": "Python 3 (ipykernel)",
   "language": "python",
   "name": "python3"
  },
  "language_info": {
   "codemirror_mode": {
    "name": "ipython",
    "version": 3
   },
   "file_extension": ".py",
   "mimetype": "text/x-python",
   "name": "python",
   "nbconvert_exporter": "python",
   "pygments_lexer": "ipython3",
   "version": "3.8.10"
  }
 },
 "nbformat": 4,
 "nbformat_minor": 5
}
