{
 "cells": [
  {
   "cell_type": "code",
   "execution_count": 2,
   "metadata": {},
   "outputs": [],
   "source": [
    "import __init__"
   ]
  },
  {
   "cell_type": "code",
   "execution_count": 3,
   "metadata": {},
   "outputs": [],
   "source": [
    "sql =\"\"\"\n",
    "select item.codename, item.startep, item.endep, \n",
    "meanx, meany, stdx, stdy,\n",
    "x0,x1,x2,x3,x4, y0,y1,y2,y3,y4 from \n",
    "anal_zzitems_D_5_5 as item \n",
    "left join anal_zzkmstats_D_5_5 ks on item.km_groupid = ks.km_groupid\n",
    "where km_groupid = '1110-0000000002';\n",
    "\"\"\""
   ]
  },
  {
   "cell_type": "code",
   "execution_count": 4,
   "metadata": {},
   "outputs": [
    {
     "name": "stdout",
     "output_type": "stream",
     "text": [
      "2023-01-16 21:29:28 | (pymysql.err.OperationalError) (1052, \"Column 'x0' in field list is ambiguous\")\n",
      "[SQL: \n",
      "select item.codename, item.startep, item.endep, \n",
      "meanx, meany, stdx, stdy,\n",
      "x0,x1,x2,x3,x4, y0,y1,y2,y3,y4 from \n",
      "anal_zzitems_D_5_5 as item \n",
      "left join anal_zzkmstats_D_5_5 ks on item.km_groupid = ks.km_groupid\n",
      "where km_groupid = '1110-0000000002';\n",
      "]\n",
      "(Background on this error at: https://sqlalche.me/e/14/e3q8)\n",
      "2023-01-16 21:29:29 | (pymysql.err.OperationalError) (1052, \"Column 'x0' in field list is ambiguous\")\n",
      "[SQL: \n",
      "select item.codename, item.startep, item.endep, \n",
      "meanx, meany, stdx, stdy,\n",
      "x0,x1,x2,x3,x4, y0,y1,y2,y3,y4 from \n",
      "anal_zzitems_D_5_5 as item \n",
      "left join anal_zzkmstats_D_5_5 ks on item.km_groupid = ks.km_groupid\n",
      "where km_groupid = '1110-0000000002';\n",
      "]\n",
      "(Background on this error at: https://sqlalche.me/e/14/e3q8)\n",
      "2023-01-16 21:29:31 | (pymysql.err.OperationalError) (1052, \"Column 'x0' in field list is ambiguous\")\n",
      "[SQL: \n",
      "select item.codename, item.startep, item.endep, \n",
      "meanx, meany, stdx, stdy,\n",
      "x0,x1,x2,x3,x4, y0,y1,y2,y3,y4 from \n",
      "anal_zzitems_D_5_5 as item \n",
      "left join anal_zzkmstats_D_5_5 ks on item.km_groupid = ks.km_groupid\n",
      "where km_groupid = '1110-0000000002';\n",
      "]\n",
      "(Background on this error at: https://sqlalche.me/e/14/e3q8)\n",
      "2023-01-16 21:29:34 | (pymysql.err.OperationalError) (1052, \"Column 'x0' in field list is ambiguous\")\n",
      "[SQL: \n",
      "select item.codename, item.startep, item.endep, \n",
      "meanx, meany, stdx, stdy,\n",
      "x0,x1,x2,x3,x4, y0,y1,y2,y3,y4 from \n",
      "anal_zzitems_D_5_5 as item \n",
      "left join anal_zzkmstats_D_5_5 ks on item.km_groupid = ks.km_groupid\n",
      "where km_groupid = '1110-0000000002';\n",
      "]\n",
      "(Background on this error at: https://sqlalche.me/e/14/e3q8)\n",
      "2023-01-16 21:29:38 | tried to connect 5 times\n"
     ]
    },
    {
     "name": "stderr",
     "output_type": "stream",
     "text": [
      "\n",
      "KeyboardInterrupt\n",
      "\n"
     ]
    }
   ],
   "source": [
    "import pandas as pd\n",
    "import numpy as np\n",
    "from db.mydf import MyDf\n",
    "mydf = MyDf()\n",
    "mydf.read_sql(sql)"
   ]
  }
 ],
 "metadata": {
  "kernelspec": {
   "display_name": "Python 3",
   "language": "python",
   "name": "python3"
  },
  "language_info": {
   "codemirror_mode": {
    "name": "ipython",
    "version": 3
   },
   "file_extension": ".py",
   "mimetype": "text/x-python",
   "name": "python",
   "nbconvert_exporter": "python",
   "pygments_lexer": "ipython3",
   "version": "3.8.10"
  },
  "orig_nbformat": 4,
  "vscode": {
   "interpreter": {
    "hash": "916dbcbb3f70747c44a77c7bcd40155683ae19c65e1c03b4aa3499c5328201f1"
   }
  }
 },
 "nbformat": 4,
 "nbformat_minor": 2
}
