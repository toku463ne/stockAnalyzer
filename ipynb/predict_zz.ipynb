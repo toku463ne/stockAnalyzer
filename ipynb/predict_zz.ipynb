{
 "cells": [
  {
   "cell_type": "code",
   "execution_count": 2,
   "metadata": {},
   "outputs": [
    {
     "data": {
      "text/plain": [
       "[]"
      ]
     },
     "execution_count": 2,
     "metadata": {},
     "output_type": "execute_result"
    }
   ],
   "source": [
    "import __init__\n",
    "from predictor.zzPredictor import ZzPredictor\n",
    "import lib\n",
    "from datetime import datetime\n",
    "\n",
    "epoch = lib.dt2epoch(datetime(2023, 1, 28))\n",
    "config = {\n",
    "    \"granularity\": \"D\",\n",
    "    \"n_points\": 5,\n",
    "    \"zz_size\": 5,\n",
    "    \"km_avg_size\": 5,\n",
    "    \"km_granularity\": \"Y\",\n",
    "    \"km_setid\": \"km20100101000020201231000096964fd8ed\"\n",
    "}\n",
    "p = ZzPredictor(config=config)\n",
    "tickers = p.getTickers(epoch)\n",
    "df = p.search(tickers, epoch)\n",
    "df"
   ]
  },
  {
   "cell_type": "code",
   "execution_count": null,
   "metadata": {},
   "outputs": [],
   "source": [
    "p.plot(df)"
   ]
  }
 ],
 "metadata": {
  "kernelspec": {
   "display_name": "Python 3",
   "language": "python",
   "name": "python3"
  },
  "language_info": {
   "codemirror_mode": {
    "name": "ipython",
    "version": 3
   },
   "file_extension": ".py",
   "mimetype": "text/x-python",
   "name": "python",
   "nbconvert_exporter": "python",
   "pygments_lexer": "ipython3",
   "version": "3.8.10 (default, Nov 14 2022, 12:59:47) \n[GCC 9.4.0]"
  },
  "orig_nbformat": 4,
  "vscode": {
   "interpreter": {
    "hash": "916dbcbb3f70747c44a77c7bcd40155683ae19c65e1c03b4aa3499c5328201f1"
   }
  }
 },
 "nbformat": 4,
 "nbformat_minor": 2
}
